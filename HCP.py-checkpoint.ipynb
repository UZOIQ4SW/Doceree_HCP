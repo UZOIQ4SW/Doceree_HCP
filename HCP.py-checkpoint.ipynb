{
 "cells": [
  {
   "cell_type": "code",
   "execution_count": 1,
   "id": "51001465",
   "metadata": {},
   "outputs": [],
   "source": [
    "import numpy as np # linear algebra\n",
    "import pandas as pd # data processing, CSV file I/O (e.g. pd.read_csv)\n",
    "import matplotlib.pyplot as plt # data visualization\n",
    "import seaborn as sns # statistical data visualization\n",
    "%matplotlib inline"
   ]
  },
  {
   "cell_type": "markdown",
   "id": "26e91c85",
   "metadata": {},
   "source": [
    "Read data sets for Train and Test"
   ]
  },
  {
   "cell_type": "code",
   "execution_count": 2,
   "id": "b2ea5943",
   "metadata": {},
   "outputs": [],
   "source": [
    "data = r'C:/Users/Gaurav/Documents/Doceree-Complete-DataSet/Doceree_Complete_DataSet/Doceree-HCP_Train.csv'\n",
    "test_data = r'C:/Users/Gaurav/Documents/Doceree-Complete-DataSet/Doceree_Complete_DataSet/Doceree-HCP_Test.csv'\n",
    "\n",
    "df = pd.read_csv(data, encoding = \"ISO-8859-1\")\n",
    "df_test = pd.read_csv(test_data, encoding = \"ISO-8859-1\")\n",
    "test_id = df_test['ID']"
   ]
  },
  {
   "cell_type": "markdown",
   "id": "7b7029c7",
   "metadata": {},
   "source": [
    "Drop not relevant columns from dataset"
   ]
  },
  {
   "cell_type": "code",
   "execution_count": 3,
   "id": "84b1ec2e",
   "metadata": {},
   "outputs": [],
   "source": [
    "# X = df.drop(['IS_HCP','BIDREQUESTIP','USERPLATFORMUID','USERZIPCODE','USERAGENT','URL','TAXONOMY','USERCITY','ID'], axis=1)\n",
    "X = df.drop(['IS_HCP','BIDREQUESTIP','USERPLATFORMUID','USERCITY','USERZIPCODE','USERAGENT','URL','ID','TAXONOMY'], axis=1)\n",
    "y = df['IS_HCP']"
   ]
  },
  {
   "cell_type": "code",
   "execution_count": 4,
   "id": "99b36944",
   "metadata": {},
   "outputs": [],
   "source": [
    "X_test_data = df_test.drop(['BIDREQUESTIP','USERPLATFORMUID','USERCITY','USERZIPCODE','USERAGENT','URL','ID'], axis=1)"
   ]
  },
  {
   "cell_type": "markdown",
   "id": "d88d98a4",
   "metadata": {},
   "source": [
    "Check for null values"
   ]
  },
  {
   "cell_type": "code",
   "execution_count": 5,
   "id": "ee00ab8e",
   "metadata": {},
   "outputs": [
    {
     "data": {
      "text/plain": [
       "DEVICETYPE      0\n",
       "PLATFORM_ID     0\n",
       "PLATFORMTYPE    0\n",
       "CHANNELTYPE     0\n",
       "KEYWORDS        0\n",
       "dtype: int64"
      ]
     },
     "execution_count": 5,
     "metadata": {},
     "output_type": "execute_result"
    }
   ],
   "source": [
    "X.isna().sum()"
   ]
  },
  {
   "cell_type": "code",
   "execution_count": 6,
   "id": "a8e1b228",
   "metadata": {},
   "outputs": [
    {
     "data": {
      "text/plain": [
       "ID                     0\n",
       "DEVICETYPE             0\n",
       "PLATFORM_ID            0\n",
       "BIDREQUESTIP           0\n",
       "USERPLATFORMUID        4\n",
       "USERCITY            6359\n",
       "USERZIPCODE         4592\n",
       "USERAGENT              2\n",
       "PLATFORMTYPE           0\n",
       "CHANNELTYPE            0\n",
       "URL                    0\n",
       "KEYWORDS               0\n",
       "TAXONOMY           81624\n",
       "IS_HCP                 1\n",
       "dtype: int64"
      ]
     },
     "execution_count": 6,
     "metadata": {},
     "output_type": "execute_result"
    }
   ],
   "source": [
    "df.isnull().sum()"
   ]
  },
  {
   "cell_type": "code",
   "execution_count": 7,
   "id": "a5fed1f9",
   "metadata": {},
   "outputs": [],
   "source": [
    "from sklearn.model_selection import train_test_split\n",
    "\n",
    "X_train, X_test, y_train, y_test = train_test_split(X, y, test_size = 0.33, random_state = 42)"
   ]
  },
  {
   "cell_type": "markdown",
   "id": "a106e228",
   "metadata": {},
   "source": [
    "Label encoding for feature extraction"
   ]
  },
  {
   "cell_type": "code",
   "execution_count": 8,
   "id": "29d2cc5b",
   "metadata": {},
   "outputs": [],
   "source": [
    "import category_encoders as ce\n",
    "\n",
    "encoder = ce.OrdinalEncoder(cols=['DEVICETYPE',  'PLATFORMTYPE', 'CHANNELTYPE', 'KEYWORDS'])\n",
    "\n",
    "\n",
    "X_train = encoder.fit_transform(X_train)\n",
    "\n",
    "X_test = encoder.transform(X_test)\n",
    "\n",
    "X_test_data = encoder.transform(X_test_data)"
   ]
  },
  {
   "cell_type": "code",
   "execution_count": 9,
   "id": "c0a0d03c",
   "metadata": {},
   "outputs": [
    {
     "data": {
      "text/plain": [
       "((76337, 5), (37600, 5))"
      ]
     },
     "execution_count": 9,
     "metadata": {},
     "output_type": "execute_result"
    }
   ],
   "source": [
    "X_train.shape, X_test.shape"
   ]
  },
  {
   "cell_type": "code",
   "execution_count": 10,
   "id": "ef9480da",
   "metadata": {},
   "outputs": [
    {
     "data": {
      "text/html": [
       "<div>\n",
       "<style scoped>\n",
       "    .dataframe tbody tr th:only-of-type {\n",
       "        vertical-align: middle;\n",
       "    }\n",
       "\n",
       "    .dataframe tbody tr th {\n",
       "        vertical-align: top;\n",
       "    }\n",
       "\n",
       "    .dataframe thead th {\n",
       "        text-align: right;\n",
       "    }\n",
       "</style>\n",
       "<table border=\"1\" class=\"dataframe\">\n",
       "  <thead>\n",
       "    <tr style=\"text-align: right;\">\n",
       "      <th></th>\n",
       "      <th>DEVICETYPE</th>\n",
       "      <th>PLATFORM_ID</th>\n",
       "      <th>PLATFORMTYPE</th>\n",
       "      <th>CHANNELTYPE</th>\n",
       "      <th>KEYWORDS</th>\n",
       "    </tr>\n",
       "  </thead>\n",
       "  <tbody>\n",
       "    <tr>\n",
       "      <th>102738</th>\n",
       "      <td>1</td>\n",
       "      <td>2</td>\n",
       "      <td>1</td>\n",
       "      <td>1</td>\n",
       "      <td>1</td>\n",
       "    </tr>\n",
       "    <tr>\n",
       "      <th>49568</th>\n",
       "      <td>2</td>\n",
       "      <td>2</td>\n",
       "      <td>1</td>\n",
       "      <td>1</td>\n",
       "      <td>2</td>\n",
       "    </tr>\n",
       "    <tr>\n",
       "      <th>23786</th>\n",
       "      <td>1</td>\n",
       "      <td>2</td>\n",
       "      <td>1</td>\n",
       "      <td>1</td>\n",
       "      <td>3</td>\n",
       "    </tr>\n",
       "    <tr>\n",
       "      <th>41780</th>\n",
       "      <td>2</td>\n",
       "      <td>2</td>\n",
       "      <td>1</td>\n",
       "      <td>1</td>\n",
       "      <td>4</td>\n",
       "    </tr>\n",
       "    <tr>\n",
       "      <th>19372</th>\n",
       "      <td>1</td>\n",
       "      <td>2</td>\n",
       "      <td>1</td>\n",
       "      <td>1</td>\n",
       "      <td>2</td>\n",
       "    </tr>\n",
       "    <tr>\n",
       "      <th>...</th>\n",
       "      <td>...</td>\n",
       "      <td>...</td>\n",
       "      <td>...</td>\n",
       "      <td>...</td>\n",
       "      <td>...</td>\n",
       "    </tr>\n",
       "    <tr>\n",
       "      <th>76820</th>\n",
       "      <td>1</td>\n",
       "      <td>2</td>\n",
       "      <td>1</td>\n",
       "      <td>1</td>\n",
       "      <td>139</td>\n",
       "    </tr>\n",
       "    <tr>\n",
       "      <th>110268</th>\n",
       "      <td>1</td>\n",
       "      <td>2</td>\n",
       "      <td>1</td>\n",
       "      <td>1</td>\n",
       "      <td>38</td>\n",
       "    </tr>\n",
       "    <tr>\n",
       "      <th>103694</th>\n",
       "      <td>1</td>\n",
       "      <td>7</td>\n",
       "      <td>1</td>\n",
       "      <td>1</td>\n",
       "      <td>159</td>\n",
       "    </tr>\n",
       "    <tr>\n",
       "      <th>860</th>\n",
       "      <td>3</td>\n",
       "      <td>2</td>\n",
       "      <td>1</td>\n",
       "      <td>1</td>\n",
       "      <td>14</td>\n",
       "    </tr>\n",
       "    <tr>\n",
       "      <th>15795</th>\n",
       "      <td>1</td>\n",
       "      <td>2</td>\n",
       "      <td>1</td>\n",
       "      <td>1</td>\n",
       "      <td>58</td>\n",
       "    </tr>\n",
       "  </tbody>\n",
       "</table>\n",
       "<p>76337 rows × 5 columns</p>\n",
       "</div>"
      ],
      "text/plain": [
       "        DEVICETYPE  PLATFORM_ID  PLATFORMTYPE  CHANNELTYPE  KEYWORDS\n",
       "102738           1            2             1            1         1\n",
       "49568            2            2             1            1         2\n",
       "23786            1            2             1            1         3\n",
       "41780            2            2             1            1         4\n",
       "19372            1            2             1            1         2\n",
       "...            ...          ...           ...          ...       ...\n",
       "76820            1            2             1            1       139\n",
       "110268           1            2             1            1        38\n",
       "103694           1            7             1            1       159\n",
       "860              3            2             1            1        14\n",
       "15795            1            2             1            1        58\n",
       "\n",
       "[76337 rows x 5 columns]"
      ]
     },
     "execution_count": 10,
     "metadata": {},
     "output_type": "execute_result"
    }
   ],
   "source": [
    "X_train"
   ]
  },
  {
   "cell_type": "code",
   "execution_count": 11,
   "id": "3b1d986b",
   "metadata": {},
   "outputs": [
    {
     "data": {
      "text/html": [
       "<div>\n",
       "<style scoped>\n",
       "    .dataframe tbody tr th:only-of-type {\n",
       "        vertical-align: middle;\n",
       "    }\n",
       "\n",
       "    .dataframe tbody tr th {\n",
       "        vertical-align: top;\n",
       "    }\n",
       "\n",
       "    .dataframe thead th {\n",
       "        text-align: right;\n",
       "    }\n",
       "</style>\n",
       "<table border=\"1\" class=\"dataframe\">\n",
       "  <thead>\n",
       "    <tr style=\"text-align: right;\">\n",
       "      <th></th>\n",
       "      <th>DEVICETYPE</th>\n",
       "      <th>PLATFORM_ID</th>\n",
       "      <th>PLATFORMTYPE</th>\n",
       "      <th>CHANNELTYPE</th>\n",
       "      <th>KEYWORDS</th>\n",
       "    </tr>\n",
       "  </thead>\n",
       "  <tbody>\n",
       "    <tr>\n",
       "      <th>15343</th>\n",
       "      <td>2</td>\n",
       "      <td>2</td>\n",
       "      <td>1.0</td>\n",
       "      <td>1</td>\n",
       "      <td>500.0</td>\n",
       "    </tr>\n",
       "    <tr>\n",
       "      <th>55980</th>\n",
       "      <td>1</td>\n",
       "      <td>7</td>\n",
       "      <td>1.0</td>\n",
       "      <td>1</td>\n",
       "      <td>21.0</td>\n",
       "    </tr>\n",
       "    <tr>\n",
       "      <th>46941</th>\n",
       "      <td>2</td>\n",
       "      <td>2</td>\n",
       "      <td>1.0</td>\n",
       "      <td>1</td>\n",
       "      <td>7.0</td>\n",
       "    </tr>\n",
       "    <tr>\n",
       "      <th>42395</th>\n",
       "      <td>1</td>\n",
       "      <td>2</td>\n",
       "      <td>1.0</td>\n",
       "      <td>1</td>\n",
       "      <td>235.0</td>\n",
       "    </tr>\n",
       "    <tr>\n",
       "      <th>58127</th>\n",
       "      <td>1</td>\n",
       "      <td>9</td>\n",
       "      <td>1.0</td>\n",
       "      <td>1</td>\n",
       "      <td>136.0</td>\n",
       "    </tr>\n",
       "    <tr>\n",
       "      <th>...</th>\n",
       "      <td>...</td>\n",
       "      <td>...</td>\n",
       "      <td>...</td>\n",
       "      <td>...</td>\n",
       "      <td>...</td>\n",
       "    </tr>\n",
       "    <tr>\n",
       "      <th>69013</th>\n",
       "      <td>1</td>\n",
       "      <td>2</td>\n",
       "      <td>1.0</td>\n",
       "      <td>1</td>\n",
       "      <td>79.0</td>\n",
       "    </tr>\n",
       "    <tr>\n",
       "      <th>80997</th>\n",
       "      <td>1</td>\n",
       "      <td>2</td>\n",
       "      <td>1.0</td>\n",
       "      <td>1</td>\n",
       "      <td>2163.0</td>\n",
       "    </tr>\n",
       "    <tr>\n",
       "      <th>34566</th>\n",
       "      <td>1</td>\n",
       "      <td>2</td>\n",
       "      <td>1.0</td>\n",
       "      <td>1</td>\n",
       "      <td>2.0</td>\n",
       "    </tr>\n",
       "    <tr>\n",
       "      <th>72698</th>\n",
       "      <td>1</td>\n",
       "      <td>2</td>\n",
       "      <td>1.0</td>\n",
       "      <td>1</td>\n",
       "      <td>215.0</td>\n",
       "    </tr>\n",
       "    <tr>\n",
       "      <th>105435</th>\n",
       "      <td>1</td>\n",
       "      <td>7</td>\n",
       "      <td>1.0</td>\n",
       "      <td>1</td>\n",
       "      <td>21.0</td>\n",
       "    </tr>\n",
       "  </tbody>\n",
       "</table>\n",
       "<p>37600 rows × 5 columns</p>\n",
       "</div>"
      ],
      "text/plain": [
       "        DEVICETYPE  PLATFORM_ID  PLATFORMTYPE  CHANNELTYPE  KEYWORDS\n",
       "15343            2            2           1.0            1     500.0\n",
       "55980            1            7           1.0            1      21.0\n",
       "46941            2            2           1.0            1       7.0\n",
       "42395            1            2           1.0            1     235.0\n",
       "58127            1            9           1.0            1     136.0\n",
       "...            ...          ...           ...          ...       ...\n",
       "69013            1            2           1.0            1      79.0\n",
       "80997            1            2           1.0            1    2163.0\n",
       "34566            1            2           1.0            1       2.0\n",
       "72698            1            2           1.0            1     215.0\n",
       "105435           1            7           1.0            1      21.0\n",
       "\n",
       "[37600 rows x 5 columns]"
      ]
     },
     "execution_count": 11,
     "metadata": {},
     "output_type": "execute_result"
    }
   ],
   "source": [
    "X_test"
   ]
  },
  {
   "cell_type": "markdown",
   "id": "9a21c654",
   "metadata": {},
   "source": [
    "Random Forest classifier for training dataset"
   ]
  },
  {
   "cell_type": "code",
   "execution_count": 12,
   "id": "5c046794",
   "metadata": {},
   "outputs": [],
   "source": [
    "# import Random Forest classifier\n",
    "from sklearn.ensemble import RandomForestClassifier\n",
    "# instantiate the classifier \n",
    "rfc = RandomForestClassifier(max_depth=3,random_state=0)\n",
    "# fit the model\n",
    "rfc.fit(X_train, y_train)\n",
    "# Predict the Test set results\n",
    "y_pred = rfc.predict(X_test)\n",
    "# Check accuracy score \n",
    "# from sklearn.metrics import accuracy_score\n",
    "# print('Model accuracy score with 10 decision-trees : {0:0.4f}'. format(accuracy_score(y_test, y_pred)))"
   ]
  },
  {
   "cell_type": "code",
   "execution_count": 13,
   "id": "bccdd9c5",
   "metadata": {},
   "outputs": [],
   "source": [
    "y_pred = rfc.predict(X_test)"
   ]
  },
  {
   "cell_type": "code",
   "execution_count": 14,
   "id": "94ed1785",
   "metadata": {},
   "outputs": [],
   "source": [
    "y_pred_test = rfc.predict(X_test_data)"
   ]
  },
  {
   "cell_type": "code",
   "execution_count": 15,
   "id": "3816e09d",
   "metadata": {},
   "outputs": [
    {
     "name": "stdout",
     "output_type": "stream",
     "text": [
      "<class 'numpy.ndarray'>\n"
     ]
    }
   ],
   "source": [
    "print(type(y_pred))"
   ]
  },
  {
   "cell_type": "code",
   "execution_count": 16,
   "id": "ce6925ff",
   "metadata": {},
   "outputs": [
    {
     "name": "stdout",
     "output_type": "stream",
     "text": [
      "        DEVICETYPE  PLATFORM_ID  PLATFORMTYPE  CHANNELTYPE  KEYWORDS\n",
      "102738           1            2             1            1         1\n",
      "49568            2            2             1            1         2\n",
      "23786            1            2             1            1         3\n",
      "41780            2            2             1            1         4\n",
      "19372            1            2             1            1         2\n",
      "...            ...          ...           ...          ...       ...\n",
      "76820            1            2             1            1       139\n",
      "110268           1            2             1            1        38\n",
      "103694           1            7             1            1       159\n",
      "860              3            2             1            1        14\n",
      "15795            1            2             1            1        58\n",
      "\n",
      "[76337 rows x 5 columns]\n"
     ]
    }
   ],
   "source": [
    "print(X_train)"
   ]
  },
  {
   "cell_type": "code",
   "execution_count": 17,
   "id": "e54f94c9",
   "metadata": {},
   "outputs": [
    {
     "data": {
      "text/html": [
       "<div>\n",
       "<style scoped>\n",
       "    .dataframe tbody tr th:only-of-type {\n",
       "        vertical-align: middle;\n",
       "    }\n",
       "\n",
       "    .dataframe tbody tr th {\n",
       "        vertical-align: top;\n",
       "    }\n",
       "\n",
       "    .dataframe thead th {\n",
       "        text-align: right;\n",
       "    }\n",
       "</style>\n",
       "<table border=\"1\" class=\"dataframe\">\n",
       "  <thead>\n",
       "    <tr style=\"text-align: right;\">\n",
       "      <th></th>\n",
       "      <th>DEVICETYPE</th>\n",
       "      <th>PLATFORM_ID</th>\n",
       "      <th>PLATFORMTYPE</th>\n",
       "      <th>CHANNELTYPE</th>\n",
       "      <th>KEYWORDS</th>\n",
       "    </tr>\n",
       "  </thead>\n",
       "  <tbody>\n",
       "    <tr>\n",
       "      <th>count</th>\n",
       "      <td>76337.000000</td>\n",
       "      <td>76337.000000</td>\n",
       "      <td>76337.000000</td>\n",
       "      <td>76337.0</td>\n",
       "      <td>76337.000000</td>\n",
       "    </tr>\n",
       "    <tr>\n",
       "      <th>mean</th>\n",
       "      <td>1.343831</td>\n",
       "      <td>3.576785</td>\n",
       "      <td>1.041029</td>\n",
       "      <td>1.0</td>\n",
       "      <td>252.042168</td>\n",
       "    </tr>\n",
       "    <tr>\n",
       "      <th>std</th>\n",
       "      <td>0.536311</td>\n",
       "      <td>2.564802</td>\n",
       "      <td>0.233822</td>\n",
       "      <td>0.0</td>\n",
       "      <td>368.260643</td>\n",
       "    </tr>\n",
       "    <tr>\n",
       "      <th>min</th>\n",
       "      <td>1.000000</td>\n",
       "      <td>1.000000</td>\n",
       "      <td>1.000000</td>\n",
       "      <td>1.0</td>\n",
       "      <td>1.000000</td>\n",
       "    </tr>\n",
       "    <tr>\n",
       "      <th>25%</th>\n",
       "      <td>1.000000</td>\n",
       "      <td>2.000000</td>\n",
       "      <td>1.000000</td>\n",
       "      <td>1.0</td>\n",
       "      <td>38.000000</td>\n",
       "    </tr>\n",
       "    <tr>\n",
       "      <th>50%</th>\n",
       "      <td>1.000000</td>\n",
       "      <td>2.000000</td>\n",
       "      <td>1.000000</td>\n",
       "      <td>1.0</td>\n",
       "      <td>93.000000</td>\n",
       "    </tr>\n",
       "    <tr>\n",
       "      <th>75%</th>\n",
       "      <td>2.000000</td>\n",
       "      <td>6.000000</td>\n",
       "      <td>1.000000</td>\n",
       "      <td>1.0</td>\n",
       "      <td>307.000000</td>\n",
       "    </tr>\n",
       "    <tr>\n",
       "      <th>max</th>\n",
       "      <td>4.000000</td>\n",
       "      <td>15.000000</td>\n",
       "      <td>4.000000</td>\n",
       "      <td>1.0</td>\n",
       "      <td>2282.000000</td>\n",
       "    </tr>\n",
       "  </tbody>\n",
       "</table>\n",
       "</div>"
      ],
      "text/plain": [
       "         DEVICETYPE   PLATFORM_ID  PLATFORMTYPE  CHANNELTYPE      KEYWORDS\n",
       "count  76337.000000  76337.000000  76337.000000      76337.0  76337.000000\n",
       "mean       1.343831      3.576785      1.041029          1.0    252.042168\n",
       "std        0.536311      2.564802      0.233822          0.0    368.260643\n",
       "min        1.000000      1.000000      1.000000          1.0      1.000000\n",
       "25%        1.000000      2.000000      1.000000          1.0     38.000000\n",
       "50%        1.000000      2.000000      1.000000          1.0     93.000000\n",
       "75%        2.000000      6.000000      1.000000          1.0    307.000000\n",
       "max        4.000000     15.000000      4.000000          1.0   2282.000000"
      ]
     },
     "execution_count": 17,
     "metadata": {},
     "output_type": "execute_result"
    }
   ],
   "source": [
    "X_train.describe()"
   ]
  },
  {
   "cell_type": "code",
   "execution_count": 18,
   "id": "f348c380",
   "metadata": {},
   "outputs": [
    {
     "data": {
      "text/plain": [
       "DEVICETYPE      0\n",
       "PLATFORM_ID     0\n",
       "PLATFORMTYPE    0\n",
       "CHANNELTYPE     0\n",
       "KEYWORDS        0\n",
       "dtype: int64"
      ]
     },
     "execution_count": 18,
     "metadata": {},
     "output_type": "execute_result"
    }
   ],
   "source": [
    "X_train.isnull().sum()"
   ]
  },
  {
   "cell_type": "code",
   "execution_count": 19,
   "id": "06ed8b4e",
   "metadata": {},
   "outputs": [],
   "source": [
    "y_test = y_test"
   ]
  },
  {
   "cell_type": "code",
   "execution_count": 20,
   "id": "ef70a51f",
   "metadata": {},
   "outputs": [],
   "source": [
    "y_res = y_test.to_numpy(dtype = 'float64')"
   ]
  },
  {
   "cell_type": "code",
   "execution_count": 21,
   "id": "5434bb7f",
   "metadata": {},
   "outputs": [
    {
     "data": {
      "text/plain": [
       "numpy.ndarray"
      ]
     },
     "execution_count": 21,
     "metadata": {},
     "output_type": "execute_result"
    }
   ],
   "source": [
    "type(y_res)"
   ]
  },
  {
   "cell_type": "code",
   "execution_count": 22,
   "id": "0a12500e",
   "metadata": {},
   "outputs": [],
   "source": [
    "y_pred = np.delete(y_pred, 1)"
   ]
  },
  {
   "cell_type": "code",
   "execution_count": 23,
   "id": "904c5d58",
   "metadata": {},
   "outputs": [
    {
     "data": {
      "text/plain": [
       "numpy.ndarray"
      ]
     },
     "execution_count": 23,
     "metadata": {},
     "output_type": "execute_result"
    }
   ],
   "source": [
    "type(y_pred)"
   ]
  },
  {
   "cell_type": "code",
   "execution_count": 24,
   "id": "b7b92bd5",
   "metadata": {},
   "outputs": [
    {
     "data": {
      "text/plain": [
       "array([0., 0., 0., ..., 0., 0., 0.])"
      ]
     },
     "execution_count": 24,
     "metadata": {},
     "output_type": "execute_result"
    }
   ],
   "source": [
    "y_pred"
   ]
  },
  {
   "cell_type": "code",
   "execution_count": 25,
   "id": "d30de73a",
   "metadata": {},
   "outputs": [
    {
     "data": {
      "text/plain": [
       "array([1., 1., 0., ..., 0., 1., 1.])"
      ]
     },
     "execution_count": 25,
     "metadata": {},
     "output_type": "execute_result"
    }
   ],
   "source": [
    "y_res"
   ]
  },
  {
   "cell_type": "code",
   "execution_count": 26,
   "id": "09a09452",
   "metadata": {},
   "outputs": [
    {
     "data": {
      "text/plain": [
       "False"
      ]
     },
     "execution_count": 26,
     "metadata": {},
     "output_type": "execute_result"
    }
   ],
   "source": [
    "np.any(np.isnan(y_pred))"
   ]
  },
  {
   "cell_type": "code",
   "execution_count": 27,
   "id": "534ef0e9",
   "metadata": {},
   "outputs": [],
   "source": [
    "y_res = y_res[~np.isnan(y_res)]"
   ]
  },
  {
   "cell_type": "code",
   "execution_count": 28,
   "id": "a749285e",
   "metadata": {},
   "outputs": [
    {
     "data": {
      "text/plain": [
       "False"
      ]
     },
     "execution_count": 28,
     "metadata": {},
     "output_type": "execute_result"
    }
   ],
   "source": [
    "np.any(np.isnan(y_res))"
   ]
  },
  {
   "cell_type": "code",
   "execution_count": 29,
   "id": "6ab325a6",
   "metadata": {},
   "outputs": [
    {
     "name": "stdout",
     "output_type": "stream",
     "text": [
      "Model accuracy score with 10 decision-trees : 0.6974\n"
     ]
    }
   ],
   "source": [
    "from sklearn.metrics import accuracy_score\n",
    "print('Model accuracy score with 10 decision-trees : {0:0.4f}'. format(accuracy_score(y_res, y_pred)))"
   ]
  },
  {
   "cell_type": "code",
   "execution_count": 30,
   "id": "078644bf",
   "metadata": {},
   "outputs": [
    {
     "name": "stdout",
     "output_type": "stream",
     "text": [
      "0.6973589723130934\n"
     ]
    }
   ],
   "source": [
    "from sklearn.metrics import accuracy_score\n",
    "print(accuracy_score(y_res, y_pred))"
   ]
  },
  {
   "cell_type": "code",
   "execution_count": 31,
   "id": "d194764e",
   "metadata": {},
   "outputs": [],
   "source": [
    "df = pd.DataFrame()\n",
    "df['IDLink'] = test_id\n",
    "df['IS_HCP'] = y_pred_test\n",
    "df.to_csv('C:/Users/Gaurav/Documents/Doceree-Complete-DataSet/Doceree_Complete_DataSet/sample_submit.csv', index=False)"
   ]
  },
  {
   "cell_type": "code",
   "execution_count": null,
   "id": "28d763e8",
   "metadata": {},
   "outputs": [],
   "source": []
  }
 ],
 "metadata": {
  "kernelspec": {
   "display_name": "Python 3 (ipykernel)",
   "language": "python",
   "name": "python3"
  },
  "language_info": {
   "codemirror_mode": {
    "name": "ipython",
    "version": 3
   },
   "file_extension": ".py",
   "mimetype": "text/x-python",
   "name": "python",
   "nbconvert_exporter": "python",
   "pygments_lexer": "ipython3",
   "version": "3.9.13"
  }
 },
 "nbformat": 4,
 "nbformat_minor": 5
}
